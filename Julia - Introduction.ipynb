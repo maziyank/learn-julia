{
 "cells": [
  {
   "cell_type": "markdown",
   "id": "upper-removal",
   "metadata": {
    "slideshow": {
     "slide_type": "slide"
    }
   },
   "source": [
    "## Julia Programming Language - Basic"
   ]
  },
  {
   "cell_type": "markdown",
   "id": "fresh-pathology",
   "metadata": {
    "slideshow": {
     "slide_type": "slide"
    }
   },
   "source": [
    "## Julia?\n",
    "\n",
    "![alt text](https://julialang.org/assets/infra/logo.svg)\n",
    "\n",
    "Julia is a high-level, high-performance, dynamic programming language. While it is a general-purpose language and can be used to write any application, many of its features are well suited for numerical analysis and computational science\n",
    "\n",
    "https://julialang.org/"
   ]
  },
  {
   "cell_type": "markdown",
   "id": "severe-nylon",
   "metadata": {
    "slideshow": {
     "slide_type": "slide"
    }
   },
   "source": [
    "## Why Julia?\n",
    "\n",
    "- Fast \n",
    "- Dynamic\n",
    "- Reproducible\n",
    "- Composable\n",
    "- General\n",
    "- Open Source"
   ]
  },
  {
   "cell_type": "markdown",
   "id": "presidential-dublin",
   "metadata": {
    "slideshow": {
     "slide_type": "slide"
    }
   },
   "source": [
    "## Compiled Language\n",
    "\n",
    "![alt text](https://2.bp.blogspot.com/-duV6K80iefg/V8QrNJWoAdI/AAAAAAAAB18/5DHOXl1ajnsEVRBUmB5nSXfJbsw5ScX3wCLcB/s1600/img.png)"
   ]
  },
  {
   "cell_type": "markdown",
   "id": "following-enterprise",
   "metadata": {
    "slideshow": {
     "slide_type": "slide"
    }
   },
   "source": [
    "## Vizualization\n",
    "\n",
    "![alt text](https://julialang.org/assets/infra/waves.gif)\n",
    "\n",
    "Data visualization has a complicated history. Plotting software makes trade-offs between features and simplicity, speed and beauty, and a static and dynamic interface. Some packages make a display and never change it, while others make updates in real-time."
   ]
  },
  {
   "cell_type": "markdown",
   "id": "conscious-relief",
   "metadata": {
    "slideshow": {
     "slide_type": "slide"
    }
   },
   "source": [
    "## Data Science and Machine Learning\n",
    "\n",
    "![alt text](https://julialang.org/assets/infra/onlinestats.gif)\n",
    "\n",
    "The Julia data ecosystem provides some packages to work with datasets, common data manipulations, and unified interface to common machine learning algorithms and deep learning."
   ]
  },
  {
   "cell_type": "markdown",
   "id": "bottom-donna",
   "metadata": {
    "slideshow": {
     "slide_type": "slide"
    }
   },
   "source": [
    "## Scientific Domain\n",
    "\n",
    "![alt text](https://julialang.org/assets/infra/lorenz.gif)\n",
    "\n",
    "Julia is designed from the ground up to be very good at numerical and scientific computing. This can be seen in the abundance of scientific tooling written in Julia"
   ]
  },
  {
   "cell_type": "markdown",
   "id": "correct-harbor",
   "metadata": {
    "slideshow": {
     "slide_type": "slide"
    }
   },
   "source": [
    "## Paralel Computing\n",
    "\n",
    "![alt text](https://julialang.org/assets/infra/parallel-prefix.png)\n",
    "\n",
    "Julia is designed for parallelism, and provides built-in primitives for parallel computing at every level: instruction level parallelism, multi-threading, GPU computing, and distributed computing. "
   ]
  },
  {
   "cell_type": "markdown",
   "id": "divine-muslim",
   "metadata": {
    "slideshow": {
     "slide_type": "slide"
    }
   },
   "source": [
    "# Install Julia\n",
    "\n",
    "Windows or OSX : Download and Run Installer\n",
    "\n",
    "Linux : Download and extract the archive into an appropriate folder\n",
    "\n",
    "https://julialang.org/downloads/\n"
   ]
  },
  {
   "cell_type": "markdown",
   "id": "imposed-thanks",
   "metadata": {
    "slideshow": {
     "slide_type": "slide"
    }
   },
   "source": [
    "## Jupyter Notebook For Julia\n",
    "\n",
    "Open Julia Shell"
   ]
  },
  {
   "cell_type": "code",
   "execution_count": null,
   "id": "classical-boulder",
   "metadata": {
    "slideshow": {
     "slide_type": "fragment"
    }
   },
   "outputs": [],
   "source": [
    "using Pkg\n",
    "Pkg.add(\"IJulia\")"
   ]
  },
  {
   "cell_type": "markdown",
   "id": "invisible-devices",
   "metadata": {
    "slideshow": {
     "slide_type": "slide"
    }
   },
   "source": [
    "## Thank You"
   ]
  }
 ],
 "metadata": {
  "celltoolbar": "Slideshow",
  "kernelspec": {
   "display_name": "Julia 1.4.1",
   "language": "julia",
   "name": "julia-1.4"
  },
  "language_info": {
   "file_extension": ".jl",
   "mimetype": "application/julia",
   "name": "julia",
   "version": "1.4.1"
  }
 },
 "nbformat": 4,
 "nbformat_minor": 5
}
